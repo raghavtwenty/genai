{
 "cells": [
  {
   "cell_type": "markdown",
   "metadata": {},
   "source": [
    "Project: RAG using Ollama & ChromaDB <br>\n",
    "Filename: rag.ipynb <br>\n",
    "Title: RAG using gemma <br>\n",
    "Author: Raghava | GitHub: @raghavtwenty  <br>\n",
    "Date Created: August 29, 2024 | Last Updated: August 30, 2024  <br>\n",
    "Language: Python | Version: 3.10.14 <br>"
   ]
  },
  {
   "cell_type": "markdown",
   "metadata": {},
   "source": [
    "Install open-source embedding from ollama"
   ]
  },
  {
   "cell_type": "code",
   "execution_count": 1,
   "metadata": {},
   "outputs": [
    {
     "name": "stdout",
     "output_type": "stream",
     "text": [
      "\u001b[?25lpulling manifest ⠋ \u001b[?25h\u001b[?25l\u001b[2K\u001b[1Gpulling manifest ⠙ \u001b[?25h\u001b[?25l\u001b[2K\u001b[1Gpulling manifest ⠹ \u001b[?25h\u001b[?25l\u001b[2K\u001b[1Gpulling manifest ⠸ \u001b[?25h\u001b[?25l\u001b[2K\u001b[1Gpulling manifest ⠼ \u001b[?25h\u001b[?25l\u001b[2K\u001b[1Gpulling manifest ⠴ \u001b[?25h\u001b[?25l\u001b[2K\u001b[1Gpulling manifest ⠦ \u001b[?25h\u001b[?25l\u001b[2K\u001b[1Gpulling manifest ⠧ \u001b[?25h\u001b[?25l\u001b[2K\u001b[1Gpulling manifest ⠇ \u001b[?25h\u001b[?25l\u001b[2K\u001b[1Gpulling manifest ⠏ \u001b[?25h\u001b[?25l\u001b[2K\u001b[1Gpulling manifest ⠋ \u001b[?25h\u001b[?25l\u001b[2K\u001b[1Gpulling manifest ⠙ \u001b[?25h\u001b[?25l\u001b[2K\u001b[1Gpulling manifest ⠙ \u001b[?25h\u001b[?25l\u001b[2K\u001b[1Gpulling manifest ⠸ \u001b[?25h\u001b[?25l\u001b[2K\u001b[1Gpulling manifest \n",
      "pulling 970aa74c0a90... 100% ▕████████████████▏ 274 MB                         \n",
      "pulling c71d239df917... 100% ▕████████████████▏  11 KB                         \n",
      "pulling ce4a164fc046... 100% ▕████████████████▏   17 B                         \n",
      "pulling 31df23ea7daa... 100% ▕████████████████▏  420 B                         \n",
      "verifying sha256 digest \n",
      "writing manifest \n",
      "success \u001b[?25h\n"
     ]
    }
   ],
   "source": [
    "!ollama pull nomic-embed-text"
   ]
  },
  {
   "cell_type": "markdown",
   "metadata": {},
   "source": [
    "Required imports"
   ]
  },
  {
   "cell_type": "code",
   "execution_count": 2,
   "metadata": {},
   "outputs": [],
   "source": [
    "from langchain_community.document_loaders import PDFPlumberLoader\n",
    "from langchain_community.embeddings import OllamaEmbeddings\n",
    "from langchain_community.vectorstores import Chroma\n",
    "from langchain_text_splitters import RecursiveCharacterTextSplitter\n",
    "from langchain.chains import VectorDBQA\n",
    "from langchain_community.chat_models import ChatOllama"
   ]
  },
  {
   "cell_type": "markdown",
   "metadata": {},
   "source": [
    "File path"
   ]
  },
  {
   "cell_type": "code",
   "execution_count": 3,
   "metadata": {},
   "outputs": [],
   "source": [
    "file_path = \"diat.pdf\""
   ]
  },
  {
   "cell_type": "markdown",
   "metadata": {},
   "source": [
    "Check for file"
   ]
  },
  {
   "cell_type": "code",
   "execution_count": 4,
   "metadata": {},
   "outputs": [],
   "source": [
    "if file_path:\n",
    "    # load the pdf file\n",
    "    loader = PDFPlumberLoader(file_path=file_path)\n",
    "    data = loader.load()\n",
    "else:\n",
    "    print(\"File doesn't exist\")"
   ]
  },
  {
   "cell_type": "markdown",
   "metadata": {},
   "source": [
    "View pdf"
   ]
  },
  {
   "cell_type": "code",
   "execution_count": 5,
   "metadata": {},
   "outputs": [
    {
     "name": "stdout",
     "output_type": "stream",
     "text": [
      "Defence Institute of Advanced Technology\n",
      "Girinagar, Pune 411025\n",
      "School of Computer Engineering and Mathematical Sciences SoCE&MS\n",
      "( )\n",
      "ABOUT SoCE&MS\n",
      "In the vibrant landscape of technological digital advancement, the School of Computer\n",
      "Engineering and Mathematical Sciences (SoCE&MS) emerged in 2022 as a beacon of innovation\n",
      "and progress. Born with the fusion of the Department of Computer Science and Engineering\n",
      "(CSE), the Department of Applied Mathematics (AM) and Data Centre, the mission is to pioneer\n",
      "breakthroughs in the realm of Computing and Mathematical Sciences. The CSE, our trailblazing\n",
      "department was founded in 1987, with the first MTech course offered in 2009; while AM has been\n",
      "integral part of our institute’s history since its inception. We stand on the shoulders of this rich\n",
      "legacy as to strengthen and apply modern digitization, as a step into a future defined by\n",
      "innovation, critical thinking, and scientific excellence.\n",
      "As SoCE&MS, we offer a tapestry of FIVE Post-Graduation academic programs and research\n",
      "ventures, a testament to our commitment to diversity and multidisciplinary. From M.Tech., MS by\n",
      "Research, M.Sc., to Ph.D programs are tailored for scientists of R&D organizations, officers of Tri-\n",
      "Services, GATE-Qualified candidates, & self-financed scholars, our offerings are diverse as the\n",
      "ever-evolving world of technology. Among our flagship M.Tech. programs are Modelling &\n",
      "Simulations, CSE (Artificial Intelligence), Data Sciences, and Cyber Security. The school has\n",
      "extended its arms to science graduates with the introduction of M.Sc. in Data Science in 2023.\n",
      "Our dynamic community comprises approximately 160 post-graduate students per year; fueled\n",
      "by the boundless curiosity of successful 21 Ph.D. completions. They thrive an ecosystem that\n",
      "fosters creativity and explorations, where the cutting-edge laboratories, state-of-art equipment,\n",
      "and a stellar faculty beacon them into the world of tomorrow’s technological needs. Our 13 faculty\n",
      "members luminaries in fields ranging from Cyber Security, Artificial Intelligence, and Data Sciences\n",
      "to Ethical hacking, Cryptography, Computational Fluid Dynamics, Image Processing, and the\n",
      "rigorous mathematics.\n",
      "Research at SoCE&MS isn’t just a buzzword; it’s our heartbeat. We are on the forefronts of\n",
      "cutting-edge research, impart trainings, actively managing funded projects and ahead in revenue\n",
      "generations. The school has received accolades for recognitions via patents & publications; in\n",
      "various national level hackathons; national & international conferences & seminars, Sports &\n",
      "Cultural events. SoCE&MS is the driving force behind the Data Centre activities, facilitating\n",
      "internet access, email service, and web hosting for DIAT.\n",
      "SoCE&MS’s dedication extends beyond the walls of DIAT. We are championing ATMA- NIRBHAR\n",
      "BHARAT INDIA@75 with PAN-INDIA Certification Courses in Artificial Intelligence & Cyber Security.\n",
      "The customized programs for Tri-Services and other national organizations underscore our\n",
      "commitment to empowerment and growth to build self-reliant nation. With resounding emphasis\n",
      "on research, interdisciplinary collaborations, and a global outlook, SoCE&MS stands tall as the\n",
      "vanguard of education, charting the course for a brighter future, to build self-reliant and\n",
      "sustainable nation. The aspiring candidates are welcome to the SoCE&MS where innovation know\n",
      "no bounds!\n",
      "Page 1 of 117\n",
      "\n"
     ]
    }
   ],
   "source": [
    "print(data[0].page_content)"
   ]
  },
  {
   "cell_type": "markdown",
   "metadata": {},
   "source": [
    "Split and chuck it"
   ]
  },
  {
   "cell_type": "code",
   "execution_count": 6,
   "metadata": {},
   "outputs": [],
   "source": [
    "text_splitter = RecursiveCharacterTextSplitter(\n",
    "    chunk_size=1000, \n",
    "    chunk_overlap=100)\n",
    "\n",
    "doc_chunks = text_splitter.split_documents(data)"
   ]
  },
  {
   "cell_type": "markdown",
   "metadata": {},
   "source": [
    "Select the embedding model"
   ]
  },
  {
   "cell_type": "code",
   "execution_count": 7,
   "metadata": {},
   "outputs": [],
   "source": [
    "embedding_model = OllamaEmbeddings(model=\"nomic-embed-text\")"
   ]
  },
  {
   "cell_type": "markdown",
   "metadata": {},
   "source": [
    "Vector embeddings & Vector database store"
   ]
  },
  {
   "cell_type": "code",
   "execution_count": 8,
   "metadata": {},
   "outputs": [],
   "source": [
    "vector_db = Chroma.from_documents(\n",
    "    documents = doc_chunks,\n",
    "    embedding = embedding_model, \n",
    "    collection_name = \"local_rag_diat\",\n",
    "    persist_directory=\"chromadb\")"
   ]
  },
  {
   "cell_type": "markdown",
   "metadata": {},
   "source": [
    "Save the vector db for future use"
   ]
  },
  {
   "cell_type": "code",
   "execution_count": 9,
   "metadata": {},
   "outputs": [
    {
     "name": "stderr",
     "output_type": "stream",
     "text": [
      "/Users/raghava/miniconda3/envs/llm/lib/python3.10/site-packages/langchain_core/_api/deprecation.py:141: LangChainDeprecationWarning: Since Chroma 0.4.x the manual persistence method is no longer supported as docs are automatically persisted.\n",
      "  warn_deprecated(\n"
     ]
    }
   ],
   "source": [
    "vector_db.persist()"
   ]
  },
  {
   "cell_type": "markdown",
   "metadata": {},
   "source": [
    "Select the ollama model"
   ]
  },
  {
   "cell_type": "code",
   "execution_count": 18,
   "metadata": {},
   "outputs": [],
   "source": [
    "llm = ChatOllama(model=\"llama3.1:8b\")"
   ]
  },
  {
   "cell_type": "markdown",
   "metadata": {},
   "source": [
    "Access the stored vector database"
   ]
  },
  {
   "cell_type": "code",
   "execution_count": 22,
   "metadata": {},
   "outputs": [],
   "source": [
    "vectordb_stored = Chroma(\n",
    "    persist_directory=\"chromadb\", \n",
    "    embedding_function=embedding_model)"
   ]
  },
  {
   "cell_type": "markdown",
   "metadata": {},
   "source": [
    "Chain together"
   ]
  },
  {
   "cell_type": "code",
   "execution_count": 23,
   "metadata": {},
   "outputs": [
    {
     "name": "stderr",
     "output_type": "stream",
     "text": [
      "/Users/raghava/miniconda3/envs/llm/lib/python3.10/site-packages/langchain/chains/retrieval_qa/base.py:290: UserWarning: `VectorDBQA` is deprecated - please use `from langchain.chains import RetrievalQA`\n",
      "  warnings.warn(\n"
     ]
    }
   ],
   "source": [
    "chain = VectorDBQA.from_chain_type(\n",
    "                                llm=llm, \n",
    "                                chain_type=\"stuff\", vectorstore=vectordb_stored)"
   ]
  },
  {
   "cell_type": "markdown",
   "metadata": {},
   "source": [
    "User input "
   ]
  },
  {
   "cell_type": "code",
   "execution_count": null,
   "metadata": {},
   "outputs": [],
   "source": [
    "prompt = str(input(\"Enter your query?\"))\n",
    "chain.run(prompt)"
   ]
  }
 ],
 "metadata": {
  "kernelspec": {
   "display_name": "llm",
   "language": "python",
   "name": "python3"
  },
  "language_info": {
   "codemirror_mode": {
    "name": "ipython",
    "version": 3
   },
   "file_extension": ".py",
   "mimetype": "text/x-python",
   "name": "python",
   "nbconvert_exporter": "python",
   "pygments_lexer": "ipython3",
   "version": "3.10.14"
  }
 },
 "nbformat": 4,
 "nbformat_minor": 2
}
